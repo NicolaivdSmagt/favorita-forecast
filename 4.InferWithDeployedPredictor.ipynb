{
 "cells": [
  {
   "cell_type": "markdown",
   "metadata": {},
   "source": [
    "# Inference using deployed predictor\n",
    "\n",
    "Now we are going to use the previously deployed predictor to generate forecasts for the test data and evalute results using differnt techiques."
   ]
  },
  {
   "cell_type": "code",
   "execution_count": 1,
   "metadata": {},
   "outputs": [],
   "source": [
    "import boto3\n",
    "from time import sleep\n",
    "import subprocess\n",
    "import pandas as pd\n",
    "import datetime\n",
    "import matplotlib.pyplot as plt\n",
    "import numpy as np\n",
    "import warnings; warnings.simplefilter('ignore')\n",
    "\n",
    "%matplotlib inline\n",
    "session = boto3.Session(region_name='us-east-1') #us-east-1 is also supported\n",
    "\n",
    "forecast = session.client(service_name='forecast')\n",
    "forecastquery = session.client(service_name='forecastquery')"
   ]
  },
  {
   "cell_type": "code",
   "execution_count": 2,
   "metadata": {},
   "outputs": [],
   "source": [
    "project = 'favorita_forecast2' # Replace this with a unique name here, make sure the entire name is < 30 characters.\n",
    "predictorName= project+'_mqrnn2'"
   ]
  },
  {
   "cell_type": "code",
   "execution_count": 3,
   "metadata": {
    "scrolled": true
   },
   "outputs": [
    {
     "data": {
      "text/plain": [
       "{'PredictorNames': ['favorita_forecast2_mqrnn2'],\n",
       " 'ResponseMetadata': {'RequestId': 'd3ade8bc-9208-405d-b233-985528b6fc04',\n",
       "  'HTTPStatusCode': 200,\n",
       "  'HTTPHeaders': {'content-type': 'application/x-amz-json-1.1',\n",
       "   'date': 'Tue, 29 Jan 2019 18:18:31 GMT',\n",
       "   'x-amzn-requestid': 'd3ade8bc-9208-405d-b233-985528b6fc04',\n",
       "   'content-length': '48',\n",
       "   'connection': 'keep-alive'},\n",
       "  'RetryAttempts': 0}}"
      ]
     },
     "execution_count": 3,
     "metadata": {},
     "output_type": "execute_result"
    }
   ],
   "source": [
    "forecast.list_deployed_predictors()"
   ]
  },
  {
   "cell_type": "code",
   "execution_count": 4,
   "metadata": {},
   "outputs": [],
   "source": [
    "df = pd.read_csv('target_time_series.csv',header=None)\n",
    "df.columns=  ['Item','Date','Value']"
   ]
  },
  {
   "cell_type": "code",
   "execution_count": 5,
   "metadata": {},
   "outputs": [
    {
     "data": {
      "text/html": [
       "<div>\n",
       "<style scoped>\n",
       "    .dataframe tbody tr th:only-of-type {\n",
       "        vertical-align: middle;\n",
       "    }\n",
       "\n",
       "    .dataframe tbody tr th {\n",
       "        vertical-align: top;\n",
       "    }\n",
       "\n",
       "    .dataframe thead th {\n",
       "        text-align: right;\n",
       "    }\n",
       "</style>\n",
       "<table border=\"1\" class=\"dataframe\">\n",
       "  <thead>\n",
       "    <tr style=\"text-align: right;\">\n",
       "      <th></th>\n",
       "      <th>Item</th>\n",
       "      <th>Date</th>\n",
       "      <th>Value</th>\n",
       "    </tr>\n",
       "  </thead>\n",
       "  <tbody>\n",
       "    <tr>\n",
       "      <th>0</th>\n",
       "      <td>96995</td>\n",
       "      <td>2013-02-04</td>\n",
       "      <td>1.0</td>\n",
       "    </tr>\n",
       "    <tr>\n",
       "      <th>1</th>\n",
       "      <td>96995</td>\n",
       "      <td>2013-03-31</td>\n",
       "      <td>1.0</td>\n",
       "    </tr>\n",
       "    <tr>\n",
       "      <th>2</th>\n",
       "      <td>96995</td>\n",
       "      <td>2013-04-06</td>\n",
       "      <td>1.0</td>\n",
       "    </tr>\n",
       "    <tr>\n",
       "      <th>3</th>\n",
       "      <td>96995</td>\n",
       "      <td>2013-04-21</td>\n",
       "      <td>1.0</td>\n",
       "    </tr>\n",
       "    <tr>\n",
       "      <th>4</th>\n",
       "      <td>96995</td>\n",
       "      <td>2013-04-22</td>\n",
       "      <td>1.0</td>\n",
       "    </tr>\n",
       "  </tbody>\n",
       "</table>\n",
       "</div>"
      ],
      "text/plain": [
       "    Item        Date  Value\n",
       "0  96995  2013-02-04    1.0\n",
       "1  96995  2013-03-31    1.0\n",
       "2  96995  2013-04-06    1.0\n",
       "3  96995  2013-04-21    1.0\n",
       "4  96995  2013-04-22    1.0"
      ]
     },
     "execution_count": 5,
     "metadata": {},
     "output_type": "execute_result"
    }
   ],
   "source": [
    "df.head()"
   ]
  },
  {
   "cell_type": "code",
   "execution_count": 10,
   "metadata": {},
   "outputs": [],
   "source": [
    "df['Date'] = pd.to_datetime(df['Date'])"
   ]
  },
  {
   "cell_type": "code",
   "execution_count": 11,
   "metadata": {},
   "outputs": [],
   "source": [
    "unique_items = df['Item'].unique()"
   ]
  },
  {
   "cell_type": "code",
   "execution_count": 12,
   "metadata": {},
   "outputs": [],
   "source": [
    "def max_date_of_item(item):\n",
    "    return df[df['Item']==item]['Date'].max()"
   ]
  },
  {
   "cell_type": "markdown",
   "metadata": {},
   "source": [
    "### 1. Filter the products and predict\n",
    "\n",
    "We are not going to take into account for evaluation products that have less than 10 days of data for testing.\n",
    "We use the get_forecast method ti request predictions for each item."
   ]
  },
  {
   "cell_type": "code",
   "execution_count": 19,
   "metadata": {},
   "outputs": [],
   "source": [
    "results = []\n",
    "for item in unique_items:\n",
    "    try:\n",
    "        if max_date_of_item(item) >= pd.Timestamp(2017,8,10):\n",
    "            forecastResponse = forecastquery.get_forecast(\n",
    "                PredictorName=predictorName,\n",
    "                Interval=\"day\",\n",
    "                Filters={\"item_id\":str(item)}\n",
    "            )\n",
    "            results.append({'forecast':forecastResponse['Forecast'],'item_id':item})\n",
    "    except:\n",
    "        pass\n",
    "\n"
   ]
  },
  {
   "cell_type": "code",
   "execution_count": 20,
   "metadata": {},
   "outputs": [
    {
     "name": "stdout",
     "output_type": "stream",
     "text": [
      "2620\n"
     ]
    }
   ],
   "source": [
    "print(len(results))\n",
    "#print(results[1])"
   ]
  },
  {
   "cell_type": "markdown",
   "metadata": {},
   "source": [
    "### 2. Plot predictions agains ground thruth"
   ]
  },
  {
   "cell_type": "code",
   "execution_count": 21,
   "metadata": {},
   "outputs": [],
   "source": [
    "def plot_preds_against_truth(i):\n",
    "    \n",
    "    df_res = pd.DataFrame(results[i]['forecast']['Predictions']['p90'])\n",
    "    id_item = results[i]['item_id']\n",
    "    df_res['Date'] = pd.to_datetime(df_res['Date'])\n",
    "    df_truth = df[df.iloc[:,0]==id_item].copy()\n",
    "    df_truth.columns = ['Item','Date','Value']\n",
    "    df_truth['Date'] = pd.to_datetime(df_truth['Date']) \n",
    "\n",
    "    df_truth = df_truth[df_truth['Date'] > pd.Timestamp(2017,6,1)]\n",
    "    df_truth = df_truth.merge(df_res,how='left',on='Date')\n",
    "\n",
    "    df_truth.set_index('Date',inplace=True)\n",
    "    plt.figure(figsize=(12,5))\n",
    "    plt.xlabel('True and predicted sales')\n",
    "\n",
    "    ax1 = df_truth['Value'].plot(color='blue', grid=True, label='True')\n",
    "    ax2 = df_truth['Val'].plot(color='red', grid=True, secondary_y=True, label='Predicted')\n",
    "\n",
    "    h1, l1 = ax1.get_legend_handles_labels()\n",
    "    h2, l2 = ax2.get_legend_handles_labels()\n",
    "\n",
    "\n",
    "    plt.legend(h1+h2, l1+l2, loc=2)\n",
    "    plt.show()"
   ]
  },
  {
   "cell_type": "code",
   "execution_count": 26,
   "metadata": {},
   "outputs": [
    {
     "data": {
      "image/png": "[encoded data removed]",
      "text/plain": [
       "<Figure size 864x360 with 2 Axes>"
      ]
     },
     "metadata": {},
     "output_type": "display_data"
    }
   ],
   "source": [
    "plot_preds_against_truth(1)"
   ]
  },
  {
   "cell_type": "markdown",
   "metadata": {},
   "source": [
    "### 3. Evaluate mae \n",
    "\n",
    "The best metric to evaluate a forecast is rmse or mae. Mae meassures the average error on each series, wich gives us an idea of the deviation in product units. But how do we know the forecast is a good? The best way is to compare it with the random walk trivial solution which consists in forecasting the last available value.\n",
    "A way to standarize mae between series of products that may have a different scale is to use the min-max standarization."
   ]
  },
  {
   "cell_type": "code",
   "execution_count": 33,
   "metadata": {},
   "outputs": [],
   "source": [
    "def get_last_value(df_truth,min_pred_date):\n",
    "    df_last = df_truth[df_truth['Date'] < min_pred_date].sort_values('Date',ascending=False).head(1)\n",
    "    return df_last.iloc[0,2]"
   ]
  },
  {
   "cell_type": "code",
   "execution_count": 68,
   "metadata": {},
   "outputs": [],
   "source": [
    "def computePercentageError(i):\n",
    "    df_res = pd.DataFrame(results[i]['forecast']['Predictions']['mean'])\n",
    "    id_item = results[i]['item_id']\n",
    "    df_res['Date'] = pd.to_datetime(df_res['Date'])\n",
    "    df_truth = df[df.iloc[:,0]==id_item].copy()\n",
    "    df_truth.columns = ['Item','Date','Value']\n",
    "    df_truth['Date'] = pd.to_datetime(df_truth['Date']) \n",
    "    \n",
    "    max_val = df_truth['Value'].max()\n",
    "    min_val = df_truth['Value'].min()\n",
    "\n",
    "    max_pred_date = df_truth['Date'].max()\n",
    "    min_pred_date = df_res['Date'].min()\n",
    "    \n",
    "    las_value_avail = get_last_value(df_truth,min_pred_date)\n",
    "\n",
    "    df_truth = df_truth[df_truth[\"Date\"]>=min_pred_date]\n",
    "    df_res = df_res[df_res[\"Date\"]<=max_pred_date]\n",
    "\n",
    "    r = pd.date_range(start=min_pred_date, end=max_pred_date)\n",
    "    df_truth = df_truth.set_index('Date').reindex(r).fillna(0.0).rename_axis('Date').reset_index()\n",
    "\n",
    "    if max_val == min_val:\n",
    "        raise AssertionError(\"No variability in series\")\n",
    "    mae = np.sum(np.abs(df_res['Val'] - df_truth['Value']))/df_res.shape[0]\n",
    "    trivial_mae = np.sum(np.abs(df_res['Val'] - las_value_avail))/df_res.shape[0]\n",
    "\n",
    "    return {'mae':mae/(max_val - min_val),\n",
    "            'trivial_mae':trivial_mae/(max_val - min_val),\n",
    "            'item':id_item}"
   ]
  },
  {
   "cell_type": "code",
   "execution_count": 69,
   "metadata": {},
   "outputs": [],
   "source": [
    "accuracy = []\n",
    "for i in range(len(results)):\n",
    "    try:\n",
    "        accuracy.append(computePercentageError(i))\n",
    "    except:\n",
    "        pass"
   ]
  },
  {
   "cell_type": "code",
   "execution_count": 73,
   "metadata": {},
   "outputs": [],
   "source": [
    "pd.options.display.float_format = '{:.2f}'.format"
   ]
  },
  {
   "cell_type": "code",
   "execution_count": 74,
   "metadata": {},
   "outputs": [],
   "source": [
    "final_error = pd.DataFrame(accuracy).dropna()"
   ]
  },
  {
   "cell_type": "code",
   "execution_count": 75,
   "metadata": {},
   "outputs": [
    {
     "data": {
      "text/plain": [
       "0.08980276619404333"
      ]
     },
     "execution_count": 75,
     "metadata": {},
     "output_type": "execute_result"
    }
   ],
   "source": [
    "final_error['mae'].mean()"
   ]
  },
  {
   "cell_type": "code",
   "execution_count": 76,
   "metadata": {},
   "outputs": [
    {
     "data": {
      "text/plain": [
       "0.12826413995490615"
      ]
     },
     "execution_count": 76,
     "metadata": {},
     "output_type": "execute_result"
    }
   ],
   "source": [
    "final_error['trivial_mae'].mean()"
   ]
  },
  {
   "cell_type": "code",
   "execution_count": 77,
   "metadata": {},
   "outputs": [
    {
     "data": {
      "text/html": [
       "<div>\n",
       "<style scoped>\n",
       "    .dataframe tbody tr th:only-of-type {\n",
       "        vertical-align: middle;\n",
       "    }\n",
       "\n",
       "    .dataframe tbody tr th {\n",
       "        vertical-align: top;\n",
       "    }\n",
       "\n",
       "    .dataframe thead th {\n",
       "        text-align: right;\n",
       "    }\n",
       "</style>\n",
       "<table border=\"1\" class=\"dataframe\">\n",
       "  <thead>\n",
       "    <tr style=\"text-align: right;\">\n",
       "      <th></th>\n",
       "      <th>item</th>\n",
       "      <th>mae</th>\n",
       "      <th>trivial_mae</th>\n",
       "    </tr>\n",
       "  </thead>\n",
       "  <tbody>\n",
       "    <tr>\n",
       "      <th>117</th>\n",
       "      <td>211206</td>\n",
       "      <td>0.03</td>\n",
       "      <td>0.11</td>\n",
       "    </tr>\n",
       "    <tr>\n",
       "      <th>2147</th>\n",
       "      <td>1954771</td>\n",
       "      <td>0.04</td>\n",
       "      <td>0.07</td>\n",
       "    </tr>\n",
       "    <tr>\n",
       "      <th>104</th>\n",
       "      <td>207857</td>\n",
       "      <td>0.05</td>\n",
       "      <td>0.02</td>\n",
       "    </tr>\n",
       "    <tr>\n",
       "      <th>2066</th>\n",
       "      <td>1913600</td>\n",
       "      <td>0.03</td>\n",
       "      <td>0.13</td>\n",
       "    </tr>\n",
       "    <tr>\n",
       "      <th>1201</th>\n",
       "      <td>1134971</td>\n",
       "      <td>0.06</td>\n",
       "      <td>0.11</td>\n",
       "    </tr>\n",
       "    <tr>\n",
       "      <th>2593</th>\n",
       "      <td>2088860</td>\n",
       "      <td>0.13</td>\n",
       "      <td>0.50</td>\n",
       "    </tr>\n",
       "    <tr>\n",
       "      <th>2</th>\n",
       "      <td>103665</td>\n",
       "      <td>0.06</td>\n",
       "      <td>0.02</td>\n",
       "    </tr>\n",
       "    <tr>\n",
       "      <th>2107</th>\n",
       "      <td>1932491</td>\n",
       "      <td>0.14</td>\n",
       "      <td>0.38</td>\n",
       "    </tr>\n",
       "    <tr>\n",
       "      <th>1279</th>\n",
       "      <td>1171140</td>\n",
       "      <td>0.09</td>\n",
       "      <td>0.02</td>\n",
       "    </tr>\n",
       "    <tr>\n",
       "      <th>2041</th>\n",
       "      <td>1903500</td>\n",
       "      <td>0.10</td>\n",
       "      <td>0.13</td>\n",
       "    </tr>\n",
       "  </tbody>\n",
       "</table>\n",
       "</div>"
      ],
      "text/plain": [
       "         item  mae  trivial_mae\n",
       "117    211206 0.03         0.11\n",
       "2147  1954771 0.04         0.07\n",
       "104    207857 0.05         0.02\n",
       "2066  1913600 0.03         0.13\n",
       "1201  1134971 0.06         0.11\n",
       "2593  2088860 0.13         0.50\n",
       "2      103665 0.06         0.02\n",
       "2107  1932491 0.14         0.38\n",
       "1279  1171140 0.09         0.02\n",
       "2041  1903500 0.10         0.13"
      ]
     },
     "execution_count": 77,
     "metadata": {},
     "output_type": "execute_result"
    }
   ],
   "source": [
    "final_error.sample(10)"
   ]
  },
  {
   "cell_type": "markdown",
   "metadata": {},
   "source": [
    "### 4.Cleanup"
   ]
  },
  {
   "cell_type": "code",
   "execution_count": null,
   "metadata": {},
   "outputs": [],
   "source": [
    "\n",
    "# project = 'favorita_forecast2' # Replace this with a unique name here, make sure the entire name is < 30 characters.\n",
    "# predictorName= project+'_mqrnn2'\n",
    "\n",
    "# # Delete Deployed Predictor \n",
    "# forecast.delete_deployed_predictor(PredictorName=predictorName)\n",
    "\n",
    "\n",
    "\n",
    "# # Delete the Predictor: \n",
    "# forecast.delete_predictor(PredictorName=predictorName)\n",
    "\n",
    "\n",
    "# datasetGroupName= project +'_gp2'\n",
    "\n",
    "\n",
    "# # Delete Import\n",
    "# #forecast.delete_dataset_import(DatasetName='datasetName')\n",
    "\n",
    "\n",
    "# forecast.list_predictors()\n",
    "\n",
    "# forecast.delete_predictor(PredictorName='favorita_forecastdemo_mqrnn2')\n",
    "\n",
    "# forecast.delete_dataset(DatasetName='favorita_forecastdemo_dssimple')\n",
    "\n",
    "\n",
    "# # Delete Dataset Group\n",
    "# forecast.delete_dataset_group(DatasetGroupName=datasetGroupName)"
   ]
  }
 ],
 "metadata": {
  "kernelspec": {
   "display_name": "conda_python3",
   "language": "python",
   "name": "conda_python3"
  },
  "language_info": {
   "codemirror_mode": {
    "name": "ipython",
    "version": 3
   },
   "file_extension": ".py",
   "mimetype": "text/x-python",
   "name": "python",
   "nbconvert_exporter": "python",
   "pygments_lexer": "ipython3",
   "version": "3.6.5"
  }
 },
 "nbformat": 4,
 "nbformat_minor": 2
}
